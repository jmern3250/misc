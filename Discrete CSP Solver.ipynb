{
 "cells": [
  {
   "cell_type": "code",
   "execution_count": 1,
   "metadata": {
    "collapsed": true
   },
   "outputs": [],
   "source": [
    "import numpy as np \n",
    "import pdb \n",
    "import itertools"
   ]
  },
  {
   "cell_type": "code",
   "execution_count": 25,
   "metadata": {
    "collapsed": true
   },
   "outputs": [],
   "source": [
    "A = np.random.rand(1000,100)*1.0\n",
    "B = np.random.rand(1000,200)*1000.0\n",
    "U, S, V_ = np.linalg.svd(B, full_matrices=False)\n",
    "# T = U.dot(np.diag(S))\n",
    "# X_ideal, _, _, _ = np.linalg.lstsq(A,T)\n",
    "X_ideal, _, _, _ = np.linalg.lstsq(A,B)"
   ]
  },
  {
   "cell_type": "code",
   "execution_count": 20,
   "metadata": {
    "collapsed": true
   },
   "outputs": [],
   "source": [
    "def CSPsolve(X_ideal, A, B, Z=None, generations=1):\n",
    "    ''' \n",
    "    X_ideal (array-like): Unconstrained solution to AX = B\n",
    "    A (array-like): Data Array \n",
    "    B (array-like): Solution Array\n",
    "    Y (vector or list): Vector of all available numbers covered by basis\n",
    "    '''\n",
    "    m, n = X_ideal.shape\n",
    "    basis0 = []\n",
    "    for i in range(n):\n",
    "        basis0.append(np.array([1,2,4,-8]))\n",
    "    Z0 = CSPgenZ(basis0)\n",
    "    Y_hi, Y_lo = CSPround(X_ideal, Z0)\n",
    "    Y0 = np.minimum(Y_hi, Y_lo)\n",
    "    Y0, loss0 = CSPeval(X_ideal, A, B, Y0=Y0, Z=Z0)\n",
    "    _, loss_init = CSPeval(X_ideal, A, B, Y0=Y0, Z=Z0)\n",
    "    X0 = Y0 + X_ideal\n",
    "    for i in range(generations):\n",
    "        Basis_set = {}\n",
    "        Z = {}\n",
    "        Y = {}\n",
    "        Loss = []\n",
    "        for j in range(10):\n",
    "            basis_temp = []\n",
    "            for b0 in basis0:\n",
    "                b1 = b0 + np.random.randint(-5,5,4)\n",
    "                basis_temp.append(b1)\n",
    "            Z_temp = CSPgenZ(basis_temp)\n",
    "            Basis_set[j] = basis_temp\n",
    "            Z[j] = Z_temp \n",
    "            y, loss = CSPeval(X_ideal, A, B, Y0, Z=Z_temp)\n",
    "            Y[j] = y\n",
    "#             pdb.set_trace()\n",
    "            Loss.append(loss)\n",
    "            print('Epoch %r, generation %r complete' %(i+1, j+1))\n",
    "#         Loss\n",
    "        best_loss = np.min(Loss)\n",
    "#         pdb.set_trace()\n",
    "        idx = np.argmin(Loss)#TODO Fixme \n",
    "#         pdb.set_trace()\n",
    "        if best_loss < loss0:\n",
    "            loss0 = best_loss\n",
    "            basis0 = Basis_set[idx]\n",
    "            Y0 = Y[idx]\n",
    "            \n",
    "    basis = basis0\n",
    "    Y = Y0    \n",
    "    loss = loss0\n",
    "    \n",
    "    return [Y, basis, loss_init, loss]"
   ]
  },
  {
   "cell_type": "code",
   "execution_count": 21,
   "metadata": {
    "collapsed": true
   },
   "outputs": [],
   "source": [
    "def CSPgenZ(basis_set):\n",
    "    Z = []\n",
    "    for basis in basis_set: \n",
    "        coverage = [0]\n",
    "        for i in range(3):\n",
    "            pset = itertools.combinations(basis, i+1)\n",
    "            for comb in pset: \n",
    "                val = np.sum(comb)\n",
    "                coverage.append(val)\n",
    "        z = np.unique(coverage)\n",
    "        Z.append(z)\n",
    "    return Z"
   ]
  },
  {
   "cell_type": "code",
   "execution_count": 22,
   "metadata": {
    "collapsed": true
   },
   "outputs": [],
   "source": [
    "def CSPeval(X_ideal, A, B, Y0=None, Z=None):\n",
    "    m, n = X_ideal.shape\n",
    "    if Y0 is None: \n",
    "        X0 = np.round(X_ideal)\n",
    "        Y0 = X0 - X_ideal\n",
    "    dL = X_ideal.T.dot(A.T.dot(A)) - B.T.dot(A) + Y0.T.dot(A.T.dot(A))\n",
    "    Y = np.zeros_like(X_ideal)\n",
    "    if Z is None: \n",
    "        Y_hi = np.ceil(X_ideal) - X_ideal\n",
    "        Y_lo = np.floor(X_ideal) - X_ideal\n",
    "    else: \n",
    "        Y_hi, Y_lo = CSPround(X_ideal, Z)\n",
    "#     pdb.set_trace()\n",
    "    dL_hi = np.abs(np.multiply(dL.T, Y_hi))\n",
    "    dL_lo = np.abs(np.multiply(dL.T, Y_lo))\n",
    "    mask_lo = dL_hi > dL_lo\n",
    "    mask_hi = dL_hi < dL_lo\n",
    "    Y = np.multiply(mask_lo, Y_lo) + np.multiply(mask_hi, Y_hi)\n",
    "    X = X_ideal + Y \n",
    "    loss = 0.5*np.linalg.norm(A.dot(X) - B)**2\n",
    "    return Y, loss "
   ]
  },
  {
   "cell_type": "code",
   "execution_count": 23,
   "metadata": {
    "collapsed": true
   },
   "outputs": [],
   "source": [
    "def CSPround(X_ideal, Z):\n",
    "    m, n = X_ideal.shape\n",
    "    X_hi = np.zeros_like(X_ideal)\n",
    "    X_lo = np.zeros_like(X_ideal)\n",
    "    found_hi = np.ones_like(X_ideal)\n",
    "    found_lo = np.ones_like(X_ideal)\n",
    "    for j, z in enumerate(Z): \n",
    "        X_ = np.zeros([m,len(z)])\n",
    "        for k, z_ in enumerate(z):\n",
    "            X_[:,k] = X_ideal[:,j] - z_\n",
    "        mask_neg = X_ < 0\n",
    "        mask_pos = X_ > 0 \n",
    "        X_neg = np.multiply(mask_neg, X_)\n",
    "        X_neg[X_neg==0] = 10000.0\n",
    "        X_pos = np.multiply(mask_pos, X_)\n",
    "        X_pos[X_pos==0] = 10000.0\n",
    "        idx_hi = np.argmin(np.abs(X_neg), axis=1)\n",
    "        idx_lo = np.argmin(X_pos, axis=1) \n",
    "        X_hi[:, j] = z[idx_hi]\n",
    "        X_lo[:, j] = z[idx_lo]\n",
    "    Y_hi = X_hi - X_ideal \n",
    "    Y_lo = X_lo - X_ideal \n",
    "    return Y_hi, Y_lo\n",
    "        \n",
    "\n",
    "# def CSPround(X_ideal, Z):\n",
    "#     m, n = X_ideal.shape\n",
    "#     X_hi = np.zeros_like(X_ideal)\n",
    "#     found_hi = np.ones_like(X_ideal)\n",
    "#     X_lo = np.zeros_like(X_ideal)\n",
    "#     found_lo = np.ones_like(X_ideal)\n",
    "#     for z in Z: \n",
    "#         mask_hi = X_ideal < z \n",
    "#         X_hi += np.multiply(found_hi, mask_hi)*z\n",
    "#         found_hi = 1.0 - mask_hi\n",
    "#     for z in Z.reverse():\n",
    "#         mask_lo = X_ideal > z\n",
    "#         X_lo += np.multiply(found_lo, mask_lo)*z\n",
    "#         found_lo = 1.0 - mask_lo\n",
    "#     final_lo = found_lo*np.max(Z)\n",
    "#     final_hi = found_hi*np.min(Z)\n",
    "#     X_hi += final_hi\n",
    "#     X_lo += final_lo\n",
    "#     Y_hi = X_hi - X_ideal\n",
    "#     Y_lo = X_lo - X_ideal\n",
    "#     return Y_hi, Y_lo"
   ]
  },
  {
   "cell_type": "code",
   "execution_count": 26,
   "metadata": {},
   "outputs": [
    {
     "name": "stdout",
     "output_type": "stream",
     "text": [
      "Epoch 1, generation 1 complete\n",
      "Epoch 1, generation 2 complete\n",
      "Epoch 1, generation 3 complete\n",
      "Epoch 1, generation 4 complete\n",
      "Epoch 1, generation 5 complete\n",
      "Epoch 1, generation 6 complete\n",
      "Epoch 1, generation 7 complete\n",
      "Epoch 1, generation 8 complete\n",
      "Epoch 1, generation 9 complete\n",
      "Epoch 1, generation 10 complete\n",
      "Loss initial: 62821360763.925026, loss final: 62821360763.925026\n"
     ]
    }
   ],
   "source": [
    "Y, basis, loss_init, loss_final = CSPsolve(X_ideal, A, B, Z=None, generations=1)\n",
    "print('Loss initial: %r, loss final: %r' % (loss_init, loss_final))"
   ]
  },
  {
   "cell_type": "code",
   "execution_count": 55,
   "metadata": {},
   "outputs": [
    {
     "data": {
      "text/plain": [
       "'\\n    Returns the indices of the minimum values along an axis.\\n\\n    Parameters\\n    ----------\\n    a : array_like\\n        Input array.\\n    axis : int, optional\\n        By default, the index is into the flattened array, otherwise\\n        along the specified axis.\\n    out : array, optional\\n        If provided, the result will be inserted into this array. It should\\n        be of the appropriate shape and dtype.\\n\\n    Returns\\n    -------\\n    index_array : ndarray of ints\\n        Array of indices into the array. It has the same shape as `a.shape`\\n        with the dimension along `axis` removed.\\n\\n    See Also\\n    --------\\n    ndarray.argmin, argmax\\n    amin : The minimum value along a given axis.\\n    unravel_index : Convert a flat index into an index tuple.\\n\\n    Notes\\n    -----\\n    In case of multiple occurrences of the minimum values, the indices\\n    corresponding to the first occurrence are returned.\\n\\n    Examples\\n    --------\\n    >>> a = np.arange(6).reshape(2,3)\\n    >>> a\\n    array([[0, 1, 2],\\n           [3, 4, 5]])\\n    >>> np.argmin(a)\\n    0\\n    >>> np.argmin(a, axis=0)\\n    array([0, 0, 0])\\n    >>> np.argmin(a, axis=1)\\n    array([0, 0])\\n\\n    >>> b = np.arange(6)\\n    >>> b[4] = 0\\n    >>> b\\n    array([0, 1, 2, 3, 0, 5])\\n    >>> np.argmin(b) # Only the first occurrence is returned.\\n    0\\n\\n    '"
      ]
     },
     "execution_count": 55,
     "metadata": {},
     "output_type": "execute_result"
    }
   ],
   "source": [
    "np.argmin.__doc__"
   ]
  },
  {
   "cell_type": "code",
   "execution_count": 22,
   "metadata": {},
   "outputs": [
    {
     "data": {
      "text/plain": [
       "['__doc__',\n",
       " '__loader__',\n",
       " '__name__',\n",
       " '__package__',\n",
       " '__spec__',\n",
       " '_grouper',\n",
       " '_tee',\n",
       " '_tee_dataobject',\n",
       " 'accumulate',\n",
       " 'chain',\n",
       " 'combinations',\n",
       " 'combinations_with_replacement',\n",
       " 'compress',\n",
       " 'count',\n",
       " 'cycle',\n",
       " 'dropwhile',\n",
       " 'filterfalse',\n",
       " 'groupby',\n",
       " 'islice',\n",
       " 'permutations',\n",
       " 'product',\n",
       " 'repeat',\n",
       " 'starmap',\n",
       " 'takewhile',\n",
       " 'tee',\n",
       " 'zip_longest']"
      ]
     },
     "execution_count": 22,
     "metadata": {},
     "output_type": "execute_result"
    }
   ],
   "source": [
    "dir(itertools)"
   ]
  },
  {
   "cell_type": "code",
   "execution_count": 40,
   "metadata": {},
   "outputs": [
    {
     "name": "stdout",
     "output_type": "stream",
     "text": [
      "My Loss: 76028283.0431\n",
      "Naive Loss: 76028283.0431\n"
     ]
    }
   ],
   "source": [
    "# X = X_ideal + V\n",
    "X_round = np.round(X_ideal)\n",
    "loss = 0.5*np.linalg.norm((A.dot(X)) - B)**2\n",
    "loss_round = 0.5*np.linalg.norm((A.dot(X_round)) - B)**2\n",
    "print('My Loss:', loss)\n",
    "print('Naive Loss:', loss_round)"
   ]
  },
  {
   "cell_type": "code",
   "execution_count": 51,
   "metadata": {
    "collapsed": true
   },
   "outputs": [],
   "source": [
    "basis0 = np.tile(np.array([1,2,4,-8]).reshape([4,1]), 3)"
   ]
  },
  {
   "cell_type": "code",
   "execution_count": 52,
   "metadata": {},
   "outputs": [
    {
     "data": {
      "text/plain": [
       "array([[ 1,  1,  1],\n",
       "       [ 2,  2,  2],\n",
       "       [ 4,  4,  4],\n",
       "       [-8, -8, -8]])"
      ]
     },
     "execution_count": 52,
     "metadata": {},
     "output_type": "execute_result"
    }
   ],
   "source": [
    "basis0"
   ]
  },
  {
   "cell_type": "code",
   "execution_count": 32,
   "metadata": {
    "collapsed": true
   },
   "outputs": [],
   "source": [
    "\n",
    "ddL = A.T.dot(A)\n",
    "m, n = X_ideal.shape\n",
    "V = np.zeros([m,n])\n",
    "# X = X_ideal[:]\n",
    "X_round = np.round(X_ideal)\n",
    "V_round = X_round - X_ideal \n",
    "V = V_round\n",
    "\n",
    "for k in range(1):\n",
    "    dL = (A.T.dot(A)).dot(X_ideal + V_round) - A.T.dot(T)\n",
    "    \n",
    "\n",
    "# for k in range(1):\n",
    "#     dL = (A.T.dot(A)).dot(X_ideal + V) - A.T.dot(T)\n",
    "#     for j in range (n):\n",
    "#         for i in range(m):\n",
    "#             X_low = X[:]\n",
    "#             X_hi = X[:]\n",
    "#             X_low[i,j] = np.floor(X_ideal[i, j])\n",
    "#             X_hi[i,j] = np.ceil(X_ideal[i,j])\n",
    "#             L_low = 0.5*np.linalg.norm(A.dot(X_low) - T)**2\n",
    "#             L_hi = 0.5*np.linalg.norm(A.dot(X_hi) - T)**2\n",
    "#             if L_low < L_hi: \n",
    "#                 X[i, j] = X_low[i, j]\n",
    "#             elif L_low > L_hi:\n",
    "#                 X[i, j] = X_hi[i, j]\n",
    "#             i = m - i_ - 1 \n",
    "#             j = n - j_ -1 \n",
    "#             V_low = V[:]\n",
    "#             V_low[i, j] = np.floor(X_ideal[i, j]) - X_ideal[i, j]\n",
    "#             V_hi = V[:]\n",
    "#             V_hi[i, j] = np.ceil(X_ideal[i, j]) - X_ideal[i, j]\n",
    "#             dL_low = np.trace(dL.T.dot(V_low)) + 0.5*np.trace((ddL.dot(V_low)).T.dot(V_low))\n",
    "#             dL_hi = np.trace(dL.T.dot(V_hi)) + 0.5*np.trace((ddL.dot(V_hi)).T.dot(V_hi))\n",
    "#             if dL_low < dL_hi: \n",
    "#                 V[i, j] = V_low[i, j]\n",
    "#             elif dL_low > dL_hi:\n",
    "#                 V[i, j] = V_hi[i, j]\n",
    "    #         print('%r of % done' % (i + j*m + 1, m*n))"
   ]
  },
  {
   "cell_type": "code",
   "execution_count": 22,
   "metadata": {},
   "outputs": [
    {
     "name": "stdout",
     "output_type": "stream",
     "text": [
      "My Loss: 467788466.767\n",
      "Naive Loss: 75954543.3103\n"
     ]
    }
   ],
   "source": [
    "# X = X_ideal + V\n",
    "X_round = np.round(X_ideal)\n",
    "loss = 0.5*np.linalg.norm((A.dot(X)) - B)**2\n",
    "loss_round = 0.5*np.linalg.norm((A.dot(X_round)) - B)**2\n",
    "print('My Loss:', loss)\n",
    "print('Naive Loss:', loss_round)"
   ]
  },
  {
   "cell_type": "code",
   "execution_count": 54,
   "metadata": {},
   "outputs": [
    {
     "name": "stdout",
     "output_type": "stream",
     "text": [
      "[[ True  True  True]\n",
      " [ True  True  True]]\n"
     ]
    }
   ],
   "source": [
    "A = np.array([[1,2,3],[4,5,6]])\n",
    "B = np.array([0,1,2])\n",
    "C = A > B\n"
   ]
  },
  {
   "cell_type": "code",
   "execution_count": 59,
   "metadata": {},
   "outputs": [
    {
     "data": {
      "text/plain": [
       "(6, 2)"
      ]
     },
     "execution_count": 59,
     "metadata": {},
     "output_type": "execute_result"
    }
   ],
   "source": [
    "np.argwhere(C).shape"
   ]
  },
  {
   "cell_type": "code",
   "execution_count": 57,
   "metadata": {},
   "outputs": [
    {
     "data": {
      "text/plain": [
       "'\\n    Find the indices of array elements that are non-zero, grouped by element.\\n\\n    Parameters\\n    ----------\\n    a : array_like\\n        Input data.\\n\\n    Returns\\n    -------\\n    index_array : ndarray\\n        Indices of elements that are non-zero. Indices are grouped by element.\\n\\n    See Also\\n    --------\\n    where, nonzero\\n\\n    Notes\\n    -----\\n    ``np.argwhere(a)`` is the same as ``np.transpose(np.nonzero(a))``.\\n\\n    The output of ``argwhere`` is not suitable for indexing arrays.\\n    For this purpose use ``where(a)`` instead.\\n\\n    Examples\\n    --------\\n    >>> x = np.arange(6).reshape(2,3)\\n    >>> x\\n    array([[0, 1, 2],\\n           [3, 4, 5]])\\n    >>> np.argwhere(x>1)\\n    array([[0, 2],\\n           [1, 0],\\n           [1, 1],\\n           [1, 2]])\\n\\n    '"
      ]
     },
     "execution_count": 57,
     "metadata": {},
     "output_type": "execute_result"
    }
   ],
   "source": [
    "np.argwhere.__doc__"
   ]
  },
  {
   "cell_type": "code",
   "execution_count": 21,
   "metadata": {},
   "outputs": [
    {
     "data": {
      "text/plain": [
       "array([[-61.55801298,  22.17325017, -18.40437087,   0.60488248,\n",
       "          3.74337513,  16.72365393,   2.79156629,  -3.38240778,\n",
       "         12.88392325,  -2.22819074,  25.09074991,  15.70338883,\n",
       "         12.43600441,   4.68726073, -11.01972697,  -1.09735278,\n",
       "         -2.90309469,   5.17401219,   3.75082026,  10.54627833],\n",
       "       [-66.57209632,  -2.26044067,   3.03974567,  10.6370506 ,\n",
       "        -19.41435552,  -3.48854013,  21.59453364,   2.61537717,\n",
       "          4.35344265, -11.07113351, -21.18376243,   6.58790328,\n",
       "         -3.28970358,   9.5952105 ,   2.74617112, -10.09464122,\n",
       "          0.12338762,  14.80253537,   2.12744681,  -1.91798091],\n",
       "       [-58.06867326, -32.85752366,  24.68844444,  11.40431801,\n",
       "        -19.08347967, -12.11439911,  18.30684964, -17.42444362,\n",
       "         17.16073628,  18.04680908,   1.40477224,  14.41693095,\n",
       "         -7.58077803,   9.59161566,  -1.92971244, -13.22399616,\n",
       "         -9.31741281,  -9.03205754,  -2.93736507,  -2.08433488],\n",
       "       [-50.30722512, -24.11834881, -17.41818353,   5.73399942,\n",
       "         36.6322972 , -31.50982102,  19.84518968, -11.90995782,\n",
       "         10.16783806,   5.18547304, -12.59655471, -13.63034447,\n",
       "         10.62370344, -14.00926511,   5.13847145,  -0.37970678,\n",
       "          6.21122732,  -8.52864262, -13.58347702,  -4.31034893],\n",
       "       [  0.55351558,   2.50746702, -22.29912937, -13.27850293,\n",
       "         11.98061297, -10.77091128, -19.09998876,  16.59442729,\n",
       "         14.41546546, -13.1043232 ,   0.21865695,  15.70794002,\n",
       "        -13.9878816 , -14.92473113,  -0.49889763,   7.30880031,\n",
       "         13.84401935,  -7.20375116, -13.07089513,  -1.51888174],\n",
       "       [-50.97799937,  -0.08126374,   2.71130435, -13.2413653 ,\n",
       "         -0.91859139,  38.40803858, -14.7144911 ,  -4.20828662,\n",
       "        -14.92423172,   5.32723764,   8.66107514, -23.38648887,\n",
       "        -11.48628305,   2.26732526,   1.74281584,  -3.34635646,\n",
       "        -14.49979405,   2.35410224,  -2.98589364,  -6.71021419],\n",
       "       [-80.40690941,  13.47075561,  11.87602328,  14.99064093,\n",
       "         -6.12110853, -10.96470281,   2.25023098,  11.54659745,\n",
       "        -12.82138204,  17.77966971,  25.84131956, -11.86224421,\n",
       "         31.62650913,  12.11717307,   7.73283346,  -4.40715658,\n",
       "          7.58548361,   4.80774118,   7.15491005,  11.82573858],\n",
       "       [-29.4937166 , -18.79294534, -36.78293513,  -7.8568451 ,\n",
       "         32.22063222,  15.820583  , -15.01557488, -19.92221922,\n",
       "        -13.98970987,  -4.50126345, -20.54469519,  -3.87397528,\n",
       "        -23.54027422,  -8.50410016, -11.80880464,  22.69728226,\n",
       "         -6.74164739,  -2.09350826,  12.71045657,   0.57408261],\n",
       "       [ -6.12249794,   4.97521784,  36.98250154, -17.55031886,\n",
       "        -36.92509938, -27.79346473,  -1.73625805,   2.58788078,\n",
       "          0.16093367, -21.97067263, -28.60850109,  -5.46447818,\n",
       "          2.03924343, -10.9219886 ,  10.29095398,  -9.41978643,\n",
       "          4.83785646,  -1.53888629,  -3.08860902,  -7.36653935],\n",
       "       [ -9.62404449,  24.37935571,  17.56823898,   4.66901135,\n",
       "         -6.78829142,  20.96492596, -11.16232693,  22.33565529,\n",
       "        -10.64875609,   1.8782007 ,  14.79546245,   9.2490651 ,\n",
       "          0.15466351,   7.99298666,  -2.28037113,  11.92885624,\n",
       "          1.67728495,  -0.73167985,   5.8330548 ,  -1.1114574 ]])"
      ]
     },
     "execution_count": 21,
     "metadata": {},
     "output_type": "execute_result"
    }
   ],
   "source": [
    "X_ideal"
   ]
  },
  {
   "cell_type": "code",
   "execution_count": null,
   "metadata": {
    "collapsed": true
   },
   "outputs": [],
   "source": []
  }
 ],
 "metadata": {
  "kernelspec": {
   "display_name": "Python 3",
   "language": "python",
   "name": "python3"
  },
  "language_info": {
   "codemirror_mode": {
    "name": "ipython",
    "version": 3
   },
   "file_extension": ".py",
   "mimetype": "text/x-python",
   "name": "python",
   "nbconvert_exporter": "python",
   "pygments_lexer": "ipython3",
   "version": "3.5.3"
  }
 },
 "nbformat": 4,
 "nbformat_minor": 2
}
