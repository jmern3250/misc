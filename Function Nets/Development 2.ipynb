{
 "cells": [
  {
   "cell_type": "code",
   "execution_count": 38,
   "metadata": {},
   "outputs": [],
   "source": [
    "import numpy as np \n",
    "import tensorflow as tf\n",
    "import pdb\n",
    "import math \n",
    "import matplotlib.pyplot as plt"
   ]
  },
  {
   "cell_type": "code",
   "execution_count": 2,
   "metadata": {
    "collapsed": true
   },
   "outputs": [],
   "source": [
    "def real2bits(value,bits=8,radius=1.5):\n",
    "    binary = np.zeros([bits,])\n",
    "    step = radius/(2**bits/2)\n",
    "    if value < 0:\n",
    "        binary[0] = 1\n",
    "    integer = int(np.floor(np.abs(value/step)))\n",
    "    done = False \n",
    "    i = bits-1\n",
    "    while not done: \n",
    "        binary[i] = integer % 2\n",
    "        integer = int(integer/2)\n",
    "        if integer == 0:\n",
    "            done = True \n",
    "        else:\n",
    "            i -= 1 \n",
    "    return binary"
   ]
  },
  {
   "cell_type": "code",
   "execution_count": 3,
   "metadata": {
    "collapsed": true
   },
   "outputs": [],
   "source": [
    "def bits2real(bit_array,bits=8,radius=1.5):\n",
    "    step = radius/(2**(bits-1))\n",
    "    weights = np.zeros([bits,])\n",
    "#     weights[0] = -1.0\n",
    "    for i in range(bits-1):\n",
    "        weights[bits-i-1] = 2**i\n",
    "    value = weights.dot(bit_array)*step\n",
    "    if bool(bit_array[0]):\n",
    "        value *= -1.0\n",
    "    return value"
   ]
  },
  {
   "cell_type": "code",
   "execution_count": 4,
   "metadata": {
    "collapsed": true
   },
   "outputs": [],
   "source": [
    "def tf_bits2real(X, bits=8,radius=1.5): #FIXME \n",
    "    step = radius/(2**(bits-1))\n",
    "    weight_list = [0]\n",
    "    for i in range(bits-1):\n",
    "        power = bits - 2 - i \n",
    "        weight_list.append(2**power*step)\n",
    "    weight_list = np.array(weight_list)\n",
    "    weight_list = weight_list.reshape([-1,1])\n",
    "#     pdb.set_trace()\n",
    "    conversion_tensor = tf.constant(weight_list,\n",
    "                                   dtype=tf.float32)\n",
    "#     pdb.set_trace()\n",
    "    real_output = tf.matmul(X, conversion_tensor,\n",
    "                            transpose_a=False)\n",
    "    idx_array = np.zeros([bits,1])\n",
    "    idx_array[0] = 1\n",
    "    idx_tensor = tf.constant(idx_array,\n",
    "                            dtype=tf.float32)\n",
    "    neg = tf.matmul(X,idx_tensor)\n",
    "    neg_factor = tf.multiply(neg, tf.constant(-2, dtype=tf.float32))\n",
    "    scale = neg_factor + 1.0\n",
    "    real_output = tf.multiply(real_output, scale)\n",
    "#     tf.cond(tf.cast(neg,tf.bool), )\n",
    "    return real_output"
   ]
  },
  {
   "cell_type": "code",
   "execution_count": 5,
   "metadata": {
    "collapsed": true
   },
   "outputs": [],
   "source": [
    "def pseudo_huber(t, delta):\n",
    "    L = delta**2*(tf.sqrt(1 + (t/delta)**2)-1)\n",
    "    return L "
   ]
  },
  {
   "cell_type": "code",
   "execution_count": 74,
   "metadata": {
    "collapsed": true
   },
   "outputs": [],
   "source": [
    "def multi_linear_loss(t, alpha, beta, gamma, zeta):\n",
    "    loss_pos = tf.nn.relu(alpha*t) - tf.nn.relu(alpha*(t-gamma)) + tf.nn.relu(beta*(t-gamma))\n",
    "    loss_neg = tf.nn.relu(-alpha*t) - tf.nn.relu(-alpha*(t+gamma)) +  tf.nn.relu(-beta*(t+gamma))\n",
    "#     loss_neg = 0\n",
    "    loss = loss_pos + loss_neg \n",
    "    loss = tf.reduce_sum(loss, axis=1)\n",
    "    return loss "
   ]
  },
  {
   "cell_type": "code",
   "execution_count": 8,
   "metadata": {
    "collapsed": true
   },
   "outputs": [],
   "source": [
    "def basic_MLP(X,y,sizes,is_training,bits=8,dropout=False): \n",
    "    layers = {}\n",
    "    layers[0] = tf.layers.dense(X, sizes[0],\n",
    "                                activation = tf.nn.relu,\n",
    "                                use_bias=False,\n",
    "                                )\n",
    "    if dropout:\n",
    "        dropout_key = str(0)+'d' \n",
    "        layers[dropout_key] = tf.layers.dropout(layers[0],\n",
    "                                                rate=0.25,\n",
    "                                                training=is_training)\n",
    "    for j,  size in enumerate(sizes[1:]): \n",
    "        i = j+1\n",
    "        if dropout: \n",
    "            dropout_key_prior = str(i-1)+'d' \n",
    "            layers[i] = tf.layers.dense(layers[dropout_key_prior], size,\n",
    "                                    activation = tf.nn.relu,\n",
    "                                    use_bias=False,\n",
    "                                    )\n",
    "            dropout_key = str(i)+'d' \n",
    "            layers[dropout_key] = tf.layers.dropout(layers[dropout_key],\n",
    "                                                rate=0.25,\n",
    "                                                training=is_training)\n",
    "        else:\n",
    "            layers[i] = tf.layers.dense(layers[i-1], size,\n",
    "                                    activation = tf.nn.relu,\n",
    "                                    use_bias=False,\n",
    "                                    )\n",
    "\n",
    "    output = tf.layers.dense(layers[len(sizes)-1], bits,\n",
    "                                   activation = None,\n",
    "                                   use_bias=False,\n",
    "                                    ) #used relu to guarentee no negative values\n",
    "    return output\n"
   ]
  },
  {
   "cell_type": "code",
   "execution_count": 79,
   "metadata": {
    "collapsed": true
   },
   "outputs": [],
   "source": [
    "def bit_loss(X,y,bits=8):\n",
    "    diff = tf.subtract(X, y)\n",
    "#     loss = tf.nn.l2_loss(diff)\n",
    "#     loss = pseudo_huber(diff, 0.1)\n",
    "    loss = multi_linear_loss(diff, alpha=0.1, beta=10, gamma=0.2, zeta=5)\n",
    "    return loss "
   ]
  },
  {
   "cell_type": "code",
   "execution_count": 80,
   "metadata": {},
   "outputs": [],
   "source": [
    "def weighted_bit_loss(X,y,bits=8,radius=1.5):\n",
    "    step = radius/(2**(bits-1))\n",
    "    weight_list = [radius]\n",
    "    for i in range(bits-1):\n",
    "        power = bits - 2 - i \n",
    "#         weight_list.append(2**power*step)\n",
    "        weight_list.append(power*step)\n",
    "    weight_list = np.array(weight_list)\n",
    "    weight_list = weight_list.reshape([1,-1])\n",
    "    conversion_tensor = tf.constant(weight_list,\n",
    "                                   dtype=tf.float32)\n",
    "    diff = tf.subtract(X, y)\n",
    "    weighted_diff = tf.multiply(diff, conversion_tensor)\n",
    "    print(weighted_diff.shape)\n",
    "#     loss = tf.nn.l2_loss(weighted_diff)\n",
    "#     loss = pseudo_huber(weighted_diff, 0.1)\n",
    "    loss = multi_linear_loss(weighted_diff, alpha=0.1, beta=10, gamma=0.2, zeta=5)\n",
    "    print(loss.shape)    \n",
    "    return loss "
   ]
  },
  {
   "cell_type": "code",
   "execution_count": 14,
   "metadata": {},
   "outputs": [],
   "source": [
    "def reg_loss(w_list):\n",
    "#     w_list = tf.get_collection(tf.GraphKeys.TRAINABLE_VARIABLES)\n",
    "    loss = 0.0\n",
    "    for w in w_list: \n",
    "        loss += tf.nn.l2_loss(w)\n",
    "    return loss"
   ]
  },
  {
   "cell_type": "code",
   "execution_count": 15,
   "metadata": {},
   "outputs": [],
   "source": [
    "# def get_weights():\n",
    "#   return [v for v in tf.get_collection(tf.GraphKeys.TRAINABLE_VARIABLES) if v.name.endswith('weights:0')]"
   ]
  },
  {
   "cell_type": "code",
   "execution_count": 81,
   "metadata": {},
   "outputs": [],
   "source": [
    "SIZES = [128, 256, 512]\n",
    "tf.reset_default_graph()\n",
    "X = tf.placeholder(tf.float32, shape=[None,1],name='Input')\n",
    "y = tf.placeholder(tf.float32, shape=[None,4],name='Correct_output')\n",
    "is_training = tf.placeholder(tf.bool,name='training')\n",
    "output = basic_MLP(X,y,SIZES,is_training,bits=4,dropout=False)\n",
    "# real_output = tf_bits2real(output,bits=16)\n",
    "# p_loss = weighted_bit_loss(output,y,bits=4,radius=1.5)\n",
    "p_loss = bit_loss(output,y)\n",
    "w_list = tf.get_collection(tf.GraphKeys.TRAINABLE_VARIABLES)\n",
    "r_loss = reg_loss(w_list)\n",
    "mean_loss = tf.reduce_mean(p_loss +  0.00*r_loss)\n",
    "optimizer = tf.train.AdamOptimizer(1e-6) \n",
    "train_step = optimizer.minimize(mean_loss)"
   ]
  },
  {
   "cell_type": "code",
   "execution_count": 82,
   "metadata": {
    "collapsed": true
   },
   "outputs": [],
   "source": [
    "sess = tf.Session()\n",
    "sess.run(tf.global_variables_initializer())\n",
    "\n",
    "xd = np.arange(0, 1.49, 0.01)\n",
    "# xd = np.ones([1000,1])\n",
    "# np.random.shuffle(xd)\n",
    "yd = np.zeros([xd.shape[0],4])\n",
    "for i, x in enumerate(xd):\n",
    "    yd[i,:] = real2bits(x, bits=4, radius=1.5)\n",
    "#     yd[i] = bits2real(yd_, bits=16, radius=1.5)\n",
    "xd = xd.reshape([-1,1])"
   ]
  },
  {
   "cell_type": "code",
   "execution_count": 83,
   "metadata": {
    "scrolled": true
   },
   "outputs": [
    {
     "name": "stdout",
     "output_type": "stream",
     "text": [
      "11.4773\n",
      "10.1287\n",
      "8.7737\n",
      "7.6923\n",
      "6.81121\n",
      "6.2502\n",
      "5.81001\n",
      "5.72803\n",
      "5.72684\n",
      "5.72675\n"
     ]
    }
   ],
   "source": [
    "for i in range(10000):\n",
    "#     idx = np.random.randint(0,xd.shape[0]-1,100)\n",
    "#     ml, _ = sess.run([mean_loss, train_step],feed_dict={X: xd[idx,:], y: yd[idx]})\n",
    "    ml, _ = sess.run([mean_loss, train_step],feed_dict={X: xd, y: yd})\n",
    "    if i % 1000 == 0:\n",
    "        print(ml)\n",
    "\n",
    "# total_loss, total_correct = run_model(sess, real_output, loss, xd, yd,\n",
    "#                                       epochs=1, batch_size=64, print_every=100,\n",
    "#                                       training=train_step, plot_losses=True)\n",
    "\n",
    "# iter_cnt,loss,np.sum(corr)/actual_batch_size"
   ]
  },
  {
   "cell_type": "code",
   "execution_count": 84,
   "metadata": {},
   "outputs": [
    {
     "name": "stdout",
     "output_type": "stream",
     "text": [
      "[0.75838923]\n"
     ]
    }
   ],
   "source": [
    "correct = tf.equal(tf.round(output), y)\n",
    "accuracy = tf.reduce_mean(tf.cast(correct,tf.float32))\n",
    "print(sess.run([accuracy],feed_dict={X: xd, y: yd}))"
   ]
  },
  {
   "cell_type": "code",
   "execution_count": 85,
   "metadata": {},
   "outputs": [
    {
     "name": "stdout",
     "output_type": "stream",
     "text": [
      "[[ 0.  1.  1.  1.]\n",
      " [ 0.  1.  1.  1.]\n",
      " [ 0.  1.  1.  1.]\n",
      " [ 0.  1.  1.  1.]\n",
      " [ 0.  1.  1.  1.]\n",
      " [ 0.  1.  1.  1.]\n",
      " [ 0.  1.  1.  1.]\n",
      " [ 0.  1.  1.  1.]\n",
      " [ 0.  1.  1.  1.]\n",
      " [ 0.  1.  1.  1.]\n",
      " [ 0.  1.  1.  1.]\n",
      " [ 0.  1.  1.  1.]\n",
      " [ 0.  1.  1.  1.]\n",
      " [ 0.  1.  1.  1.]\n",
      " [ 0.  1.  1.  1.]\n",
      " [ 0.  1.  1.  1.]\n",
      " [ 0.  1.  1.  1.]\n",
      " [ 0.  1.  1.  1.]\n",
      " [ 0.  1.  1.  1.]\n",
      " [ 0.  1.  1.  1.]\n",
      " [ 0.  1.  1.  1.]\n",
      " [ 0.  1.  1.  1.]\n",
      " [ 0.  1.  1.  1.]\n",
      " [ 0.  1.  1.  1.]\n",
      " [ 0.  1.  1.  1.]\n",
      " [ 0.  1.  1.  1.]\n",
      " [ 0.  1.  1.  1.]\n",
      " [ 0.  1.  1.  1.]\n",
      " [ 0.  1.  1.  1.]\n",
      " [ 0.  1.  1.  1.]\n",
      " [ 0.  1.  1.  1.]\n",
      " [ 0.  1.  1.  1.]\n",
      " [ 0.  1.  1.  1.]\n",
      " [ 0.  1.  1.  1.]\n",
      " [ 0.  1.  1.  1.]\n",
      " [ 0.  1.  1.  1.]\n",
      " [ 0.  1.  1.  1.]\n",
      " [ 0.  1.  1.  1.]\n",
      " [ 0.  1.  1.  1.]\n",
      " [ 0.  1.  1.  1.]\n",
      " [ 0.  1.  1.  1.]\n",
      " [ 0.  1.  1.  1.]\n",
      " [ 0.  1.  1.  1.]\n",
      " [ 0.  1.  1.  1.]\n",
      " [ 0.  1.  1.  1.]\n",
      " [ 0.  1.  1.  1.]\n",
      " [ 0.  1.  1.  1.]\n",
      " [ 0.  1.  1.  1.]\n",
      " [ 0.  1.  1.  1.]]\n"
     ]
    }
   ],
   "source": [
    "print(sess.run([tf.round(output)],feed_dict={X: xd, y: yd})[0][100:150,:])"
   ]
  },
  {
   "cell_type": "code",
   "execution_count": 86,
   "metadata": {},
   "outputs": [
    {
     "name": "stdout",
     "output_type": "stream",
     "text": [
      "[[ 0.  1.  0.  1.]\n",
      " [ 0.  1.  0.  1.]\n",
      " [ 0.  1.  0.  1.]\n",
      " [ 0.  1.  0.  1.]\n",
      " [ 0.  1.  0.  1.]\n",
      " [ 0.  1.  0.  1.]\n",
      " [ 0.  1.  0.  1.]\n",
      " [ 0.  1.  0.  1.]\n",
      " [ 0.  1.  0.  1.]\n",
      " [ 0.  1.  0.  1.]\n",
      " [ 0.  1.  0.  1.]\n",
      " [ 0.  1.  0.  1.]\n",
      " [ 0.  1.  0.  1.]\n",
      " [ 0.  1.  1.  0.]\n",
      " [ 0.  1.  1.  0.]\n",
      " [ 0.  1.  1.  0.]\n",
      " [ 0.  1.  1.  0.]\n",
      " [ 0.  1.  1.  0.]\n",
      " [ 0.  1.  1.  0.]\n",
      " [ 0.  1.  1.  0.]\n",
      " [ 0.  1.  1.  0.]\n",
      " [ 0.  1.  1.  0.]\n",
      " [ 0.  1.  1.  0.]\n",
      " [ 0.  1.  1.  0.]\n",
      " [ 0.  1.  1.  0.]\n",
      " [ 0.  1.  1.  0.]\n",
      " [ 0.  1.  1.  0.]\n",
      " [ 0.  1.  1.  0.]\n",
      " [ 0.  1.  1.  0.]\n",
      " [ 0.  1.  1.  0.]\n",
      " [ 0.  1.  1.  0.]\n",
      " [ 0.  1.  1.  0.]\n",
      " [ 0.  1.  1.  1.]\n",
      " [ 0.  1.  1.  1.]\n",
      " [ 0.  1.  1.  1.]\n",
      " [ 0.  1.  1.  1.]\n",
      " [ 0.  1.  1.  1.]\n",
      " [ 0.  1.  1.  1.]\n",
      " [ 0.  1.  1.  1.]\n",
      " [ 0.  1.  1.  1.]\n",
      " [ 0.  1.  1.  1.]\n",
      " [ 0.  1.  1.  1.]\n",
      " [ 0.  1.  1.  1.]\n",
      " [ 0.  1.  1.  1.]\n",
      " [ 0.  1.  1.  1.]\n",
      " [ 0.  1.  1.  1.]\n",
      " [ 0.  1.  1.  1.]\n",
      " [ 0.  1.  1.  1.]\n",
      " [ 0.  1.  1.  1.]]\n"
     ]
    }
   ],
   "source": [
    "print(yd[100:150])"
   ]
  },
  {
   "cell_type": "code",
   "execution_count": 75,
   "metadata": {},
   "outputs": [],
   "source": [
    "tf.reset_default_graph()\n",
    "sess = tf.Session()\n",
    "t = tf.placeholder(tf.float32, shape=[None,1])\n",
    "loss = multi_linear_loss(t, alpha=0.1, beta=1.0, gamma=0.4, zeta=5)"
   ]
  },
  {
   "cell_type": "code",
   "execution_count": 76,
   "metadata": {},
   "outputs": [],
   "source": [
    "t_test = np.arange(-1,1,0.1).reshape([-1,1])\n",
    "loss_test = sess.run(loss, feed_dict={t:t_test})"
   ]
  },
  {
   "cell_type": "code",
   "execution_count": 77,
   "metadata": {},
   "outputs": [
    {
     "data": {
      "image/png": "[encoded data removed]",
      "text/plain": [
       "<matplotlib.figure.Figure at 0x2570a693f60>"
      ]
     },
     "metadata": {},
     "output_type": "display_data"
    }
   ],
   "source": [
    "plt.figure()\n",
    "plt.plot(t_test, loss_test)\n",
    "plt.show()"
   ]
  },
  {
   "cell_type": "code",
   "execution_count": null,
   "metadata": {
    "collapsed": true
   },
   "outputs": [],
   "source": []
  }
 ],
 "metadata": {
  "anaconda-cloud": {},
  "kernelspec": {
   "display_name": "Python 3",
   "language": "python",
   "name": "python3"
  },
  "language_info": {
   "codemirror_mode": {
    "name": "ipython",
    "version": 3
   },
   "file_extension": ".py",
   "mimetype": "text/x-python",
   "name": "python",
   "nbconvert_exporter": "python",
   "pygments_lexer": "ipython3",
   "version": "3.5.2"
  }
 },
 "nbformat": 4,
 "nbformat_minor": 2
}
