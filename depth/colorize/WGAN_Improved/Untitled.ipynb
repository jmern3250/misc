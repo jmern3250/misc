{
 "cells": [
  {
   "cell_type": "code",
   "execution_count": 1,
   "metadata": {
    "collapsed": true
   },
   "outputs": [],
   "source": [
    "import numpy as np \n",
    "import tensorflow as tf \n",
    "import pdb "
   ]
  },
  {
   "cell_type": "code",
   "execution_count": 4,
   "metadata": {
    "collapsed": true
   },
   "outputs": [],
   "source": [
    "def disc(X, Y):\n",
    "    with tf.variable_scope('Autoencoder') as aenc: \n",
    "        inp = tf.concat([X,Y], axis=3)\n",
    "        c0 = tf.layers.conv2d(\n",
    "                            inputs=inp, \n",
    "                            filters=4, \n",
    "                            kernel_size=[3,3],\n",
    "                            strides=2, \n",
    "                            padding='valid',\n",
    "                            activation=tf.nn.relu, \n",
    "                            name='c0')\n",
    "        c1 = tf.layers.conv2d(\n",
    "                            inputs=c0, \n",
    "                            filters=16, \n",
    "                            kernel_size=[3,3],\n",
    "                            strides=2, \n",
    "                            padding='valid',\n",
    "                            activation=tf.nn.relu, \n",
    "                            name='c1')\n",
    "        c2 = tf.layers.conv2d(\n",
    "                            inputs=c1, \n",
    "                            filters=32, \n",
    "                            kernel_size=[3,3],\n",
    "                            strides=2, \n",
    "                            padding='valid',\n",
    "                            activation=tf.nn.relu, \n",
    "                            name='c2')\n",
    "        output = tf.layers.conv2d(\n",
    "                            inputs=c2, \n",
    "                            filters=1, \n",
    "                            kernel_size=[3,3],\n",
    "                            strides=1, \n",
    "                            padding='valid',\n",
    "                            activation=None, \n",
    "                            name='output')\n",
    "        return output"
   ]
  },
  {
   "cell_type": "code",
   "execution_count": 38,
   "metadata": {},
   "outputs": [],
   "source": [
    "tf.reset_default_graph()\n",
    "X = tf.placeholder(tf.float32, [None, 64, 64, 3])\n",
    "Y = tf.placeholder(tf.float32, [None, 64, 64, 1])\n",
    "\n",
    "D = disc(X, Y)\n",
    "\n",
    "np.random.seed(0)\n",
    "Xd = np.random.rand(5, 64, 64, 3)*2 - 1\n",
    "Yd = np.random.rand(5, 64, 64, 1)*2 - 1\n",
    "\n",
    "grads = tf.gradients(D, [X,Y])\n",
    "dx = grads[0]\n",
    "dy = grads[1]\n",
    "\n",
    "global_grads = tf.global_norm(grads)\n",
    "cust_grads = tf.sqrt(tf.reduce_sum(dx**2, axis=[1,2,3]) + tf.reduce_sum(dy**2, axis=[1,2,3]))  \n",
    "cust_grads = tf.reduce_mean((cust_grads - 1.0)**2)"
   ]
  },
  {
   "cell_type": "code",
   "execution_count": 39,
   "metadata": {},
   "outputs": [],
   "source": [
    "sess = tf.InteractiveSession()\n",
    "sess.run(tf.global_variables_initializer())\n",
    "global_test, cust_test = sess.run([global_grads, cust_grads],feed_dict={X:Xd, Y:Yd})"
   ]
  },
  {
   "cell_type": "code",
   "execution_count": 40,
   "metadata": {},
   "outputs": [
    {
     "name": "stdout",
     "output_type": "stream",
     "text": [
      "3.18 0.178449\n"
     ]
    }
   ],
   "source": [
    "print(global_test, cust_test)"
   ]
  },
  {
   "cell_type": "code",
   "execution_count": null,
   "metadata": {
    "collapsed": true
   },
   "outputs": [],
   "source": []
  }
 ],
 "metadata": {
  "kernelspec": {
   "display_name": "Python 3",
   "language": "python",
   "name": "python3"
  },
  "language_info": {
   "codemirror_mode": {
    "name": "ipython",
    "version": 3
   },
   "file_extension": ".py",
   "mimetype": "text/x-python",
   "name": "python",
   "nbconvert_exporter": "python",
   "pygments_lexer": "ipython3",
   "version": "3.5.3"
  }
 },
 "nbformat": 4,
 "nbformat_minor": 2
}
